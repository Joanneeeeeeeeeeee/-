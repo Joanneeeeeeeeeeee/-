{
  "nbformat": 4,
  "nbformat_minor": 0,
  "metadata": {
    "colab": {
      "provenance": []
    },
    "kernelspec": {
      "name": "python3",
      "display_name": "Python 3"
    },
    "language_info": {
      "name": "python"
    }
  },
  "cells": [
    {
      "cell_type": "code",
      "execution_count": 7,
      "metadata": {
        "colab": {
          "base_uri": "https://localhost:8080/"
        },
        "id": "JCS1ZDvkgY_i",
        "outputId": "4f70333b-a696-4c39-8e39-ceba272a4f85"
      },
      "outputs": [
        {
          "output_type": "stream",
          "name": "stdout",
          "text": [
            "身高(cm)165\n",
            "體重(kg)56\n",
            "適中\n",
            "20.569329660238754\n"
          ]
        }
      ],
      "source": [
        "a=float(input('身高(cm)'))\n",
        "b=float(input('體重(kg)'))\n",
        "c = a / 100\n",
        "d = float(c**2)\n",
        "b /= d\n",
        "if b<18.5:\n",
        "  print('過輕')\n",
        "if 18.5<=b<24:\n",
        "  print('適中')\n",
        "if 24<=b<27:\n",
        "  print('過重')\n",
        "if b>=27:\n",
        "  print('肥胖')\n",
        "print(b)\n",
        "\n"
      ]
    },
    {
      "cell_type": "code",
      "source": [
        "a=float(input('請輸入一第一個數字'))\n",
        "b=input('請輸入運算符號')\n",
        "c=float(input('請輸入第二個數字'))\n",
        "if b=='+' :\n",
        "  print(a+c)\n",
        "if b=='-' :\n",
        "  print(a-c)\n",
        "if b=='*' :\n",
        "  print(a*c)\n",
        "if b=='/' :\n",
        "  print(a/c)\n",
        "\n"
      ],
      "metadata": {
        "colab": {
          "base_uri": "https://localhost:8080/"
        },
        "id": "NJcs9J2snJyw",
        "outputId": "0a079421-0226-4eba-e027-d866afd708a5"
      },
      "execution_count": 10,
      "outputs": [
        {
          "output_type": "stream",
          "name": "stdout",
          "text": [
            "請輸入一第一個數字5\n",
            "請輸入運算符號*\n",
            "請輸入第二個數字2\n",
            "10.0\n"
          ]
        }
      ]
    },
    {
      "cell_type": "code",
      "source": [],
      "metadata": {
        "id": "qlWyUMaSoyEB"
      },
      "execution_count": null,
      "outputs": []
    }
  ]
}