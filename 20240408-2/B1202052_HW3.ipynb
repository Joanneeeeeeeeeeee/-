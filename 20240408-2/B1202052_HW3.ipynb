{
  "nbformat": 4,
  "nbformat_minor": 0,
  "metadata": {
    "colab": {
      "provenance": []
    },
    "kernelspec": {
      "name": "python3",
      "display_name": "Python 3"
    },
    "language_info": {
      "name": "python"
    }
  },
  "cells": [
    {
      "cell_type": "code",
      "execution_count": 9,
      "metadata": {
        "colab": {
          "base_uri": "https://localhost:8080/"
        },
        "id": "b8a13Zedp3fe",
        "outputId": "0a0ddf02-9368-4abd-f8f6-13f811798522"
      },
      "outputs": [
        {
          "output_type": "stream",
          "name": "stdout",
          "text": [
            "請輸入年份1936\n",
            "閏年\n"
          ]
        }
      ],
      "source": [
        "a=int(input('請輸入年份'))\n",
        "if a<=1582:\n",
        "  b=a%4\n",
        "  if b==0:\n",
        "    print('閏年')\n",
        "  else:\n",
        "    print('平年')\n",
        "else:\n",
        "  if a%4==0 and a%400==0:\n",
        "    print('閏年')\n",
        "  elif a%4==0 and a%100>0:\n",
        "    print('閏年')\n",
        "  else:\n",
        "    print('平年')\n"
      ]
    }
  ]
}