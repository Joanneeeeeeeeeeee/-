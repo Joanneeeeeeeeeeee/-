{
  "nbformat": 4,
  "nbformat_minor": 0,
  "metadata": {
    "colab": {
      "provenance": []
    },
    "kernelspec": {
      "name": "python3",
      "display_name": "Python 3"
    },
    "language_info": {
      "name": "python"
    }
  },
  "cells": [
    {
      "cell_type": "code",
      "execution_count": null,
      "metadata": {
        "id": "m407-mFBt_Vl"
      },
      "outputs": [],
      "source": []
    },
    {
      "cell_type": "code",
      "source": [
        "def a(height):\n",
        "    for i in range(1, height + 1):\n",
        "        print(\" \" * (height - i) + \"*\" * (2 * i - 1))\n",
        "    for i in range(5):\n",
        "        print(\" \" * (height - 2) + \"***\")\n",
        "height = int(input(\"請輸入聖誕樹的高度：\"))\n",
        "a(height)"
      ],
      "metadata": {
        "colab": {
          "base_uri": "https://localhost:8080/"
        },
        "id": "rjOukP8QwYd0",
        "outputId": "85be46e5-0674-4a82-a1ab-e76a1ef55965"
      },
      "execution_count": 2,
      "outputs": [
        {
          "output_type": "stream",
          "name": "stdout",
          "text": [
            "請輸入聖誕樹的高度：7\n",
            "      *\n",
            "     ***\n",
            "    *****\n",
            "   *******\n",
            "  *********\n",
            " ***********\n",
            "*************\n",
            "     ***\n",
            "     ***\n",
            "     ***\n",
            "     ***\n",
            "     ***\n"
          ]
        }
      ]
    },
    {
      "cell_type": "code",
      "source": [
        "def calculate_bmi(height, weight):\n",
        "    height_m = height / 100\n",
        "    bmi = weight / (height_m ** 2)\n",
        "    return bmi\n",
        "\n",
        "def interpret_bmi(bmi):\n",
        "    if bmi < 18.5:\n",
        "        return \"過輕\"\n",
        "    elif bmi < 24:\n",
        "        return \"正常\"\n",
        "    elif bmi < 27:\n",
        "        return \"過重\"\n",
        "    elif bmi < 30:\n",
        "        return \"輕度肥胖\"\n",
        "    elif bmi < 35:\n",
        "        return \"中度肥胖\"\n",
        "    else:\n",
        "        return \"重度肥胖\"\n",
        "\n",
        "try:\n",
        "    height = float(input(\"請輸入身高(公分): \"))\n",
        "    weight = float(input(\"請輸入體重(公斤): \"))\n",
        "\n",
        "    bmi = calculate_bmi(height, weight)\n",
        "    print(\"您的BMI值為: {:.2f}\".format(bmi))\n",
        "    print(\"您的體位結果為:\", interpret_bmi(bmi))\n",
        "\n",
        "except:\n",
        "    print(\"輸入錯誤: 請確保輸入的是數字\")\n"
      ],
      "metadata": {
        "colab": {
          "base_uri": "https://localhost:8080/"
        },
        "id": "Kk50tV3Fxhzz",
        "outputId": "98848015-0651-4b01-cddd-fabfc86a5c5f"
      },
      "execution_count": 7,
      "outputs": [
        {
          "output_type": "stream",
          "name": "stdout",
          "text": [
            "請輸入身高(公分): 165\n",
            "請輸入體重(公斤): 57\n",
            "您的BMI值為: 20.94\n",
            "您的體位結果為: 正常\n"
          ]
        }
      ]
    }
  ]
}