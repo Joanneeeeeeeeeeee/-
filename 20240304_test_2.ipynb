{
  "nbformat": 4,
  "nbformat_minor": 0,
  "metadata": {
    "colab": {
      "provenance": []
    },
    "kernelspec": {
      "name": "python3",
      "display_name": "Python 3"
    },
    "language_info": {
      "name": "python"
    }
  },
  "cells": [
    {
      "cell_type": "code",
      "execution_count": null,
      "metadata": {
        "colab": {
          "base_uri": "https://localhost:8080/"
        },
        "id": "YLz4sJEbdsdd",
        "outputId": "be3e7b33-4eec-4325-9cd7-95ce799f86f7"
      },
      "outputs": [
        {
          "output_type": "stream",
          "name": "stdout",
          "text": [
            "Ans is = 495\n"
          ]
        }
      ],
      "source": [
        "x=2\n",
        "y=1\n",
        "a=2*x + y\n",
        "b= 100 - y\n",
        "c=a*b\n",
        "print('Ans is =',c )"
      ]
    },
    {
      "cell_type": "code",
      "source": [
        "y=4\n",
        "a=100/(2*y+1)\n",
        "print('Ans is =',a)"
      ],
      "metadata": {
        "colab": {
          "base_uri": "https://localhost:8080/"
        },
        "id": "8RI9otgrf0Ck",
        "outputId": "5b1f478e-2de7-4f1c-f71d-70f463c390be"
      },
      "execution_count": null,
      "outputs": [
        {
          "output_type": "stream",
          "name": "stdout",
          "text": [
            "Ans is = 11.11111111111111\n"
          ]
        }
      ]
    }
  ]
}