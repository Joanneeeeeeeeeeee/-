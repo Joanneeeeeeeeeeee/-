{
  "nbformat": 4,
  "nbformat_minor": 0,
  "metadata": {
    "colab": {
      "provenance": []
    },
    "kernelspec": {
      "name": "python3",
      "display_name": "Python 3"
    },
    "language_info": {
      "name": "python"
    }
  },
  "cells": [
    {
      "cell_type": "code",
      "execution_count": null,
      "metadata": {
        "colab": {
          "base_uri": "https://localhost:8080/"
        },
        "id": "GyccEBH5oB7Q",
        "outputId": "9e5510ba-630d-4a67-e267-52580fad2fb2"
      },
      "outputs": [
        {
          "output_type": "stream",
          "name": "stdout",
          "text": [
            "I'm a student\n"
          ]
        }
      ],
      "source": [
        "a = \"I'm a student\"\n",
        "print(a)"
      ]
    },
    {
      "cell_type": "code",
      "source": [
        "a = float(input('x1='))\n",
        "b = float(input('y1='))\n",
        "c = float(input('x2='))\n",
        "d = float(input('y2='))\n",
        "e = ((a-c)**2+(b-d)**2)**0.5\n",
        "\n",
        "print(\"兩點的距離是\",e)\n"
      ],
      "metadata": {
        "colab": {
          "base_uri": "https://localhost:8080/"
        },
        "id": "VjQP2ZLhnd7X",
        "outputId": "65c4cab1-e56c-4bf5-afca-747e60852551"
      },
      "execution_count": 40,
      "outputs": [
        {
          "output_type": "stream",
          "name": "stdout",
          "text": [
            "x1=2\n",
            "y1=2\n",
            "x2=3\n",
            "y2=3\n",
            "兩點的距離是 1.4142135623730951\n"
          ]
        }
      ]
    },
    {
      "cell_type": "code",
      "source": [
        "a=float(input('身高(cm)'))\n",
        "b=float(input('體重(kg)'))\n",
        "c = a / 100\n",
        "d = float(c**2)\n",
        "b /= d\n",
        "print('BMI=', b)"
      ],
      "metadata": {
        "colab": {
          "base_uri": "https://localhost:8080/"
        },
        "id": "XavjYdKuxCG2",
        "outputId": "0dc7525a-6243-4f99-81d9-7f6cebb1848b"
      },
      "execution_count": 51,
      "outputs": [
        {
          "output_type": "stream",
          "name": "stdout",
          "text": [
            "身高(cm)165\n",
            "體重(kg)57\n",
            "BMI= 20.936639118457304\n"
          ]
        }
      ]
    }
  ]
}