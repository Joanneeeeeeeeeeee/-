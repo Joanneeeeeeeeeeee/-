{
  "nbformat": 4,
  "nbformat_minor": 0,
  "metadata": {
    "colab": {
      "provenance": []
    },
    "kernelspec": {
      "name": "python3",
      "display_name": "Python 3"
    },
    "language_info": {
      "name": "python"
    }
  },
  "cells": [
    {
      "cell_type": "code",
      "execution_count": 11,
      "metadata": {
        "colab": {
          "base_uri": "https://localhost:8080/"
        },
        "id": "_k0e149HeAOR",
        "outputId": "ac6d336c-7021-4e43-cd86-d9236f6efcd5"
      },
      "outputs": [
        {
          "output_type": "stream",
          "name": "stdout",
          "text": [
            "88.33333333333333\n",
            "{'姓名': '賴宏偉', '性別': '男', '學號': 'B1129020'}\n",
            "95.0\n",
            "{'姓名': '許珈綺', '性別': '女', '學號': 'M1229001'}\n"
          ]
        }
      ],
      "source": [
        "import copy\n",
        "a=dict(姓名='賴宏偉', 性別='男', 作業分數=[95,100,90] )\n",
        "b=dict(學號='B1129020')\n",
        "a.update(b)\n",
        "c=copy.deepcopy(a)\n",
        "a['作業分數'][1]=80\n",
        "c['姓名']='許珈綺'\n",
        "c['性別']='女'\n",
        "c['學號']='M1229001'\n",
        "d=a.pop('作業分數')\n",
        "e=int(d[0]+d[1]+d[2])/3\n",
        "print(e)\n",
        "print(a)\n",
        "f=c.pop('作業分數')\n",
        "g=int(f[0]+f[1]+f[2])/3\n",
        "print(g)\n",
        "print(c)\n"
      ]
    },
    {
      "cell_type": "code",
      "source": [
        "a=[100,50,45,60,90,95,80,50]\n",
        "a[0:5]=[88,100,50,70]\n",
        "a.remove(50)\n",
        "b =a.pop(0)\n",
        "c =a.pop(4)\n",
        "d=b+c\n",
        "print(d)"
      ],
      "metadata": {
        "colab": {
          "base_uri": "https://localhost:8080/"
        },
        "id": "W2ygrBNtjg60",
        "outputId": "aaf20564-20b2-4ae5-e8ab-bcbbe6356534"
      },
      "execution_count": 26,
      "outputs": [
        {
          "output_type": "stream",
          "name": "stdout",
          "text": [
            "138\n"
          ]
        }
      ]
    },
    {
      "cell_type": "code",
      "source": [
        "a=347//3\n",
        "b=347%3\n",
        "c=a**b\n",
        "print(c)\n"
      ],
      "metadata": {
        "colab": {
          "base_uri": "https://localhost:8080/"
        },
        "id": "itrxcwx-m4g5",
        "outputId": "b57784e2-6083-4a87-ff3f-52a90f01f197"
      },
      "execution_count": 28,
      "outputs": [
        {
          "output_type": "stream",
          "name": "stdout",
          "text": [
            "13225\n"
          ]
        }
      ]
    },
    {
      "cell_type": "code",
      "source": [],
      "metadata": {
        "id": "h2SsbBcJmvYi"
      },
      "execution_count": null,
      "outputs": []
    }
  ]
}